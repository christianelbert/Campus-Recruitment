{
 "cells": [
  {
   "cell_type": "code",
   "execution_count": 63,
   "metadata": {},
   "outputs": [],
   "source": [
    "import numpy as np\n",
    "import pandas as pd\n",
    "from sklearn.model_selection import train_test_split, RandomizedSearchCV, cross_val_score\n",
    "from sklearn.ensemble import RandomForestClassifier, AdaBoostClassifier\n",
    "from sklearn.linear_model import LogisticRegression\n",
    "from sklearn.neighbors import KNeighborsClassifier\n",
    "from sklearn.metrics import roc_curve, accuracy_score, precision_score, recall_score, classification_report, plot_confusion_matrix\n",
    "import warnings\n",
    "warnings.filterwarnings('ignore')\n",
    "import matplotlib.pyplot as plt\n",
    "import seaborn as sb\n",
    "from dython import nominal\n",
    "from sklearn.svm import SVC"
   ]
  },
  {
   "cell_type": "code",
   "execution_count": 2,
   "metadata": {},
   "outputs": [],
   "source": [
    "trainData = pd.read_csv('train.csv')\n",
    "testData = pd.read_csv('test.csv')"
   ]
  },
  {
   "cell_type": "code",
   "execution_count": 3,
   "metadata": {},
   "outputs": [],
   "source": [
    "x_train = trainData.drop(columns=['status'])\n",
    "y_train = trainData['status']\n",
    "x_test = testData.drop(columns=['status'])\n",
    "y_test = testData['status']"
   ]
  },
  {
   "cell_type": "markdown",
   "metadata": {},
   "source": [
    "### Machine learning model with default parameter"
   ]
  },
  {
   "cell_type": "code",
   "execution_count": 4,
   "metadata": {},
   "outputs": [],
   "source": [
    "logistic = LogisticRegression()\n",
    "forest = RandomForestClassifier()\n",
    "adaboost = AdaBoostClassifier()\n",
    "knn = KNeighborsClassifier()\n",
    "svc = SVC()"
   ]
  },
  {
   "cell_type": "code",
   "execution_count": 5,
   "metadata": {},
   "outputs": [
    {
     "data": {
      "text/plain": [
       "SVC(C=1.0, break_ties=False, cache_size=200, class_weight=None, coef0=0.0,\n",
       "    decision_function_shape='ovr', degree=3, gamma='scale', kernel='rbf',\n",
       "    max_iter=-1, probability=False, random_state=None, shrinking=True,\n",
       "    tol=0.001, verbose=False)"
      ]
     },
     "execution_count": 5,
     "metadata": {},
     "output_type": "execute_result"
    }
   ],
   "source": [
    "logistic.fit(x_train,y_train)\n",
    "forest.fit(x_train,y_train)\n",
    "adaboost.fit(x_train,y_train)\n",
    "knn.fit(x_train,y_train)\n",
    "svc.fit(x_train,y_train)"
   ]
  },
  {
   "cell_type": "markdown",
   "metadata": {},
   "source": [
    "### Accuracy score before hyperparameter tuning"
   ]
  },
  {
   "cell_type": "code",
   "execution_count": 6,
   "metadata": {},
   "outputs": [],
   "source": [
    "def model_score(model):\n",
    "    return round(model.score(x_test,y_test)*100, 2)"
   ]
  },
  {
   "cell_type": "code",
   "execution_count": 7,
   "metadata": {},
   "outputs": [
    {
     "data": {
      "text/html": [
       "<div>\n",
       "<style scoped>\n",
       "    .dataframe tbody tr th:only-of-type {\n",
       "        vertical-align: middle;\n",
       "    }\n",
       "\n",
       "    .dataframe tbody tr th {\n",
       "        vertical-align: top;\n",
       "    }\n",
       "\n",
       "    .dataframe thead th {\n",
       "        text-align: right;\n",
       "    }\n",
       "</style>\n",
       "<table border=\"1\" class=\"dataframe\">\n",
       "  <thead>\n",
       "    <tr style=\"text-align: right;\">\n",
       "      <th></th>\n",
       "      <th>Logistic</th>\n",
       "      <th>Random Forest</th>\n",
       "      <th>Adaboost</th>\n",
       "      <th>KNN</th>\n",
       "      <th>SVC</th>\n",
       "    </tr>\n",
       "  </thead>\n",
       "  <tbody>\n",
       "    <tr>\n",
       "      <th>Before tuning</th>\n",
       "      <td>72.73</td>\n",
       "      <td>72.73</td>\n",
       "      <td>81.82</td>\n",
       "      <td>78.79</td>\n",
       "      <td>69.7</td>\n",
       "    </tr>\n",
       "  </tbody>\n",
       "</table>\n",
       "</div>"
      ],
      "text/plain": [
       "               Logistic  Random Forest  Adaboost    KNN   SVC\n",
       "Before tuning     72.73          72.73     81.82  78.79  69.7"
      ]
     },
     "execution_count": 7,
     "metadata": {},
     "output_type": "execute_result"
    },
    {
     "data": {
      "image/png": "[encoded data removed]",
      "text/plain": [
       "<Figure size 432x288 with 1 Axes>"
      ]
     },
     "metadata": {
      "needs_background": "light"
     },
     "output_type": "display_data"
    }
   ],
   "source": [
    "log_score = model_score(logistic)\n",
    "forest_score = model_score(forest)\n",
    "ada_score = model_score(adaboost)\n",
    "knn_score = model_score(knn)\n",
    "svc_score = model_score(svc)\n",
    "\n",
    "scoreNotune = pd.DataFrame({'Before tuning':[log_score, forest_score, ada_score,knn_score,svc_score]},index=['Logistic','Random Forest','Adaboost','KNN','SVC']).T\n",
    "scoreNotune.T.plot(kind='bar',rot=0)\n",
    "scoreNotune"
   ]
  },
  {
   "cell_type": "code",
   "execution_count": 8,
   "metadata": {},
   "outputs": [],
   "source": [
    "def tuning(model, parameter, n_cv):\n",
    "    grid = RandomizedSearchCV(model, parameter, cv = n_cv)\n",
    "    grid.fit(x_train,y_train)\n",
    "    best_param = grid.best_params_\n",
    "    return best_param"
   ]
  },
  {
   "cell_type": "code",
   "execution_count": 9,
   "metadata": {},
   "outputs": [],
   "source": [
    "log_param = {\n",
    "    'solver':['newton-cg','lbfgs','liblinear','sag','saga'],\n",
    "    'penalty':['none','l1','l2','elasticnet'],\n",
    "    'C':[100,10,1.0,0.1,0.01]\n",
    "}\n",
    "\n",
    "log_best = tuning(logistic,log_param,10)"
   ]
  },
  {
   "cell_type": "code",
   "execution_count": 11,
   "metadata": {},
   "outputs": [],
   "source": [
    "forest_param = {\n",
    "    'n_estimators': [10,100,1000],\n",
    "    'min_samples_split': [i for i in range(2,21,2)],\n",
    "    'min_samples_leaf': [i for i in range(1,12)],\n",
    "    'max_depth' : [10, 20, 30, 40, 50, 60, 70, 80, 90, 100, None],\n",
    "    'max_features': ['sqrt','log2'],\n",
    "    'criterion':['gini','entropy']\n",
    "}\n",
    "\n",
    "forest_best = tuning(forest,forest_param,10)"
   ]
  },
  {
   "cell_type": "code",
   "execution_count": 13,
   "metadata": {},
   "outputs": [],
   "source": [
    "ada_param = {\n",
    "    'n_estimators':[100,200,300],\n",
    "    'algorithm':['SAMME', 'SAMME.R']\n",
    "}\n",
    "\n",
    "ada_best = tuning(adaboost, ada_param, 10)"
   ]
  },
  {
   "cell_type": "code",
   "execution_count": 15,
   "metadata": {},
   "outputs": [],
   "source": [
    "knn_param = {\n",
    "    'leaf_size' : list(range(1,50)),\n",
    "    'n_neighbors' : list(range(1,30)),\n",
    "    'p':[1,2],\n",
    "    'weights':['uniform','distance'],\n",
    "    'algorithm':['auto','ball_tree','kd_tree','brute']\n",
    "}\n",
    "\n",
    "knn_best = tuning(knn, knn_param, 10)"
   ]
  },
  {
   "cell_type": "code",
   "execution_count": 16,
   "metadata": {},
   "outputs": [],
   "source": [
    "svc_param = {\n",
    "    'C': [0.1,1, 10, 100], 'gamma': [1,0.1,0.01,0.001],'kernel': ['rbf', 'poly', 'sigmoid']\n",
    "}\n",
    "\n",
    "svc_best = tuning(svc,svc_param,10)"
   ]
  },
  {
   "cell_type": "code",
   "execution_count": 17,
   "metadata": {},
   "outputs": [
    {
     "name": "stdout",
     "output_type": "stream",
     "text": [
      "{'solver': 'liblinear', 'penalty': 'l2', 'C': 10}\n",
      "{'n_estimators': 100, 'min_samples_split': 16, 'min_samples_leaf': 3, 'max_features': 'log2', 'max_depth': 100, 'criterion': 'gini'}\n",
      "{'n_estimators': 300, 'algorithm': 'SAMME.R'}\n",
      "{'weights': 'distance', 'p': 2, 'n_neighbors': 11, 'leaf_size': 31, 'algorithm': 'brute'}\n",
      "{'kernel': 'poly', 'gamma': 0.01, 'C': 100}\n"
     ]
    }
   ],
   "source": [
    "print(log_best)\n",
    "print(forest_best)\n",
    "print(ada_best)\n",
    "print(knn_best)\n",
    "print(svc_best)"
   ]
  },
  {
   "cell_type": "code",
   "execution_count": 18,
   "metadata": {},
   "outputs": [],
   "source": [
    "logOptimum = LogisticRegression(solver=log_best['solver'],penalty=log_best['penalty'],C=log_best['C'])\n",
    "forestOptimum = RandomForestClassifier(n_estimators=forest_best['n_estimators'], min_samples_split=forest_best['min_samples_split'], min_samples_leaf=forest_best['min_samples_leaf'], max_features=forest_best['max_features'], max_depth=forest_best['max_depth'], criterion=forest_best['criterion'])\n",
    "adaOptimum = AdaBoostClassifier(n_estimators=ada_best['n_estimators'],algorithm=ada_best['algorithm'])\n",
    "knnOptimum = KNeighborsClassifier(p=knn_best['p'], n_neighbors=knn_best['n_neighbors'], leaf_size=knn_best['leaf_size'],weights=knn_best['weights'],algorithm=knn_best['algorithm'])\n",
    "svcOptimum = SVC(C=svc_best['C'],gamma=svc_best['gamma'],kernel=svc_best['kernel'])"
   ]
  },
  {
   "cell_type": "code",
   "execution_count": 19,
   "metadata": {},
   "outputs": [
    {
     "data": {
      "text/plain": [
       "SVC(C=100, break_ties=False, cache_size=200, class_weight=None, coef0=0.0,\n",
       "    decision_function_shape='ovr', degree=3, gamma=0.01, kernel='poly',\n",
       "    max_iter=-1, probability=False, random_state=None, shrinking=True,\n",
       "    tol=0.001, verbose=False)"
      ]
     },
     "execution_count": 19,
     "metadata": {},
     "output_type": "execute_result"
    }
   ],
   "source": [
    "logOptimum.fit(x_train,y_train)\n",
    "forestOptimum.fit(x_train,y_train)\n",
    "adaOptimum.fit(x_train,y_train)\n",
    "knnOptimum.fit(x_train,y_train)\n",
    "svcOptimum.fit(x_train,y_train)"
   ]
  },
  {
   "cell_type": "code",
   "execution_count": 26,
   "metadata": {},
   "outputs": [],
   "source": [
    "log_score_tune = model_score(logOptimum)\n",
    "forest_score_tune = model_score(forestOptimum)\n",
    "ada_score_tune = model_score(adaOptimum)\n",
    "knn_score_tune = model_score(knnOptimum)\n",
    "svc_score_tune = model_score(svcOptimum)\n",
    "\n",
    "scoreTune = pd.DataFrame({'After tuning':[log_score_tune,forest_score_tune,ada_score_tune,knn_score_tune,svc_score_tune]}, index=['Logistic','Random Forest','Adaboost','KNN','SVC']).T"
   ]
  },
  {
   "cell_type": "code",
   "execution_count": 43,
   "metadata": {},
   "outputs": [
    {
     "data": {
      "text/html": [
       "<div>\n",
       "<style scoped>\n",
       "    .dataframe tbody tr th:only-of-type {\n",
       "        vertical-align: middle;\n",
       "    }\n",
       "\n",
       "    .dataframe tbody tr th {\n",
       "        vertical-align: top;\n",
       "    }\n",
       "\n",
       "    .dataframe thead th {\n",
       "        text-align: right;\n",
       "    }\n",
       "</style>\n",
       "<table border=\"1\" class=\"dataframe\">\n",
       "  <thead>\n",
       "    <tr style=\"text-align: right;\">\n",
       "      <th></th>\n",
       "      <th>Before tuning</th>\n",
       "      <th>After tuning</th>\n",
       "    </tr>\n",
       "  </thead>\n",
       "  <tbody>\n",
       "    <tr>\n",
       "      <th>Logistic</th>\n",
       "      <td>72.73</td>\n",
       "      <td>75.76</td>\n",
       "    </tr>\n",
       "    <tr>\n",
       "      <th>Random Forest</th>\n",
       "      <td>72.73</td>\n",
       "      <td>75.76</td>\n",
       "    </tr>\n",
       "    <tr>\n",
       "      <th>Adaboost</th>\n",
       "      <td>81.82</td>\n",
       "      <td>81.82</td>\n",
       "    </tr>\n",
       "    <tr>\n",
       "      <th>KNN</th>\n",
       "      <td>78.79</td>\n",
       "      <td>78.79</td>\n",
       "    </tr>\n",
       "    <tr>\n",
       "      <th>SVC</th>\n",
       "      <td>69.70</td>\n",
       "      <td>75.76</td>\n",
       "    </tr>\n",
       "  </tbody>\n",
       "</table>\n",
       "</div>"
      ],
      "text/plain": [
       "               Before tuning  After tuning\n",
       "Logistic               72.73         75.76\n",
       "Random Forest          72.73         75.76\n",
       "Adaboost               81.82         81.82\n",
       "KNN                    78.79         78.79\n",
       "SVC                    69.70         75.76"
      ]
     },
     "execution_count": 43,
     "metadata": {},
     "output_type": "execute_result"
    },
    {
     "data": {
      "image/png": "[encoded data removed]",
      "text/plain": [
       "<Figure size 1080x504 with 1 Axes>"
      ]
     },
     "metadata": {
      "needs_background": "light"
     },
     "output_type": "display_data"
    }
   ],
   "source": [
    "scores = pd.concat([scoreNotune,scoreTune]).T\n",
    "scores.plot(kind='bar',rot=0,figsize=(15,7),title='Score with and without tuning')\n",
    "scores"
   ]
  },
  {
   "cell_type": "code",
   "execution_count": 98,
   "metadata": {},
   "outputs": [
    {
     "name": "stdout",
     "output_type": "stream",
     "text": [
      "Classfication report for Logistic:\n",
      "               precision    recall  f1-score   support\n",
      "\n",
      "           0       0.67      0.55      0.60        11\n",
      "           1       0.79      0.86      0.83        22\n",
      "\n",
      "    accuracy                           0.76        33\n",
      "   macro avg       0.73      0.70      0.71        33\n",
      "weighted avg       0.75      0.76      0.75        33\n",
      "\n",
      "Classfication report for Random Forest:\n",
      "               precision    recall  f1-score   support\n",
      "\n",
      "           0       0.67      0.55      0.60        11\n",
      "           1       0.79      0.86      0.83        22\n",
      "\n",
      "    accuracy                           0.76        33\n",
      "   macro avg       0.73      0.70      0.71        33\n",
      "weighted avg       0.75      0.76      0.75        33\n",
      "\n",
      "Classfication report for Adaboost:\n",
      "               precision    recall  f1-score   support\n",
      "\n",
      "           0       0.78      0.64      0.70        11\n",
      "           1       0.83      0.91      0.87        22\n",
      "\n",
      "    accuracy                           0.82        33\n",
      "   macro avg       0.81      0.77      0.78        33\n",
      "weighted avg       0.81      0.82      0.81        33\n",
      "\n",
      "Classfication report for KNN:\n",
      "               precision    recall  f1-score   support\n",
      "\n",
      "           0       0.83      0.45      0.59        11\n",
      "           1       0.78      0.95      0.86        22\n",
      "\n",
      "    accuracy                           0.79        33\n",
      "   macro avg       0.81      0.70      0.72        33\n",
      "weighted avg       0.80      0.79      0.77        33\n",
      "\n",
      "Classfication report for SVC:\n",
      "               precision    recall  f1-score   support\n",
      "\n",
      "           0       0.67      0.55      0.60        11\n",
      "           1       0.79      0.86      0.83        22\n",
      "\n",
      "    accuracy                           0.76        33\n",
      "   macro avg       0.73      0.70      0.71        33\n",
      "weighted avg       0.75      0.76      0.75        33\n",
      "\n"
     ]
    }
   ],
   "source": [
    "optimum = {\n",
    "    'Logistic':logOptimum,'Random Forest':forestOptimum,'Adaboost':adaOptimum,'KNN':knnOptimum,'SVC':svcOptimum\n",
    "}\n",
    "\n",
    "def classification(model):\n",
    "    for key in list(optimum.keys()):\n",
    "        print(f'Classfication report for {key}:\\n {classification_report(y_test,optimum[key].predict(x_test))}') \n",
    "\n",
    "classification(optimum)"
   ]
  },
  {
   "cell_type": "code",
   "execution_count": 99,
   "metadata": {},
   "outputs": [
    {
     "name": "stdout",
     "output_type": "stream",
     "text": [
      "Confusion matrix for Logistic\n"
     ]
    },
    {
     "data": {
      "image/png": "[encoded data removed]",
      "text/plain": [
       "<Figure size 432x288 with 2 Axes>"
      ]
     },
     "metadata": {
      "needs_background": "light"
     },
     "output_type": "display_data"
    },
    {
     "name": "stdout",
     "output_type": "stream",
     "text": [
      "Confusion matrix for Random Forest\n"
     ]
    },
    {
     "data": {
      "image/png": "[encoded data removed]",
      "text/plain": [
       "<Figure size 432x288 with 2 Axes>"
      ]
     },
     "metadata": {
      "needs_background": "light"
     },
     "output_type": "display_data"
    },
    {
     "name": "stdout",
     "output_type": "stream",
     "text": [
      "Confusion matrix for Adaboost\n"
     ]
    },
    {
     "data": {
      "image/png": "[encoded data removed]",
      "text/plain": [
       "<Figure size 432x288 with 2 Axes>"
      ]
     },
     "metadata": {
      "needs_background": "light"
     },
     "output_type": "display_data"
    },
    {
     "name": "stdout",
     "output_type": "stream",
     "text": [
      "Confusion matrix for KNN\n"
     ]
    },
    {
     "data": {
      "image/png": "[encoded data removed]",
      "text/plain": [
       "<Figure size 432x288 with 2 Axes>"
      ]
     },
     "metadata": {
      "needs_background": "light"
     },
     "output_type": "display_data"
    },
    {
     "name": "stdout",
     "output_type": "stream",
     "text": [
      "Confusion matrix for SVC\n"
     ]
    },
    {
     "data": {
      "image/png": "[encoded data removed]",
      "text/plain": [
       "<Figure size 432x288 with 2 Axes>"
      ]
     },
     "metadata": {
      "needs_background": "light"
     },
     "output_type": "display_data"
    }
   ],
   "source": [
    "keys = list(optimum.keys())\n",
    "\n",
    "def confuse(model):\n",
    "    for key in keys:\n",
    "        print(f'Confusion matrix for {key}')\n",
    "        plot_confusion_matrix(optimum[key],x_test,y_test,values_format='0.0f',)\n",
    "        plt.show()\n",
    "\n",
    "confuse(keys)"
   ]
  },
  {
   "cell_type": "code",
   "execution_count": null,
   "metadata": {},
   "outputs": [],
   "source": []
  }
 ],
 "metadata": {
  "kernelspec": {
   "display_name": "Python 3.8.0 64-bit",
   "language": "python",
   "name": "python38064bitaad979fb6d7d4c828c2591ee6f987e08"
  },
  "language_info": {
   "codemirror_mode": {
    "name": "ipython",
    "version": 3
   },
   "file_extension": ".py",
   "mimetype": "text/x-python",
   "name": "python",
   "nbconvert_exporter": "python",
   "pygments_lexer": "ipython3",
   "version": "3.8.0"
  }
 },
 "nbformat": 4,
 "nbformat_minor": 4
}
